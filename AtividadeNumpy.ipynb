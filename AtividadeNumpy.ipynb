{
  "nbformat": 4,
  "nbformat_minor": 0,
  "metadata": {
    "colab": {
      "provenance": [],
      "authorship_tag": "ABX9TyM/yOzbcps8jBYRX1HB9TjA",
      "include_colab_link": true
    },
    "kernelspec": {
      "name": "python3",
      "display_name": "Python 3"
    },
    "language_info": {
      "name": "python"
    }
  },
  "cells": [
    {
      "cell_type": "markdown",
      "metadata": {
        "id": "view-in-github",
        "colab_type": "text"
      },
      "source": [
        "<a href=\"https://colab.research.google.com/github/COAP230023/atividade-praticas-em-numpy-danborghi/blob/main/AtividadeNumpy.ipynb\" target=\"_parent\"><img src=\"https://colab.research.google.com/assets/colab-badge.svg\" alt=\"Open In Colab\"/></a>"
      ]
    },
    {
      "cell_type": "markdown",
      "source": [
        "### 1. Vetor de zeros  _(fácil)_\n",
        "\n",
        "Crie um array 1D com 10 zeros usando NumPy e mostre o dtype e o shape."
      ],
      "metadata": {
        "id": "Sh_x44e1FDHy"
      }
    },
    {
      "cell_type": "code",
      "source": [
        "import numpy as np\n",
        "\n",
        "a1D = np.array([1, 2, 3, 4])"
      ],
      "metadata": {
        "id": "8Uhz8qziFCAl"
      },
      "execution_count": null,
      "outputs": []
    }
  ]
}