{
  "nbformat": 4,
  "nbformat_minor": 0,
  "metadata": {
    "colab": {
      "provenance": [],
      "authorship_tag": "ABX9TyM8kmNudMzCgxpdGgHbN89w",
      "include_colab_link": true
    },
    "kernelspec": {
      "name": "python3",
      "display_name": "Python 3"
    },
    "language_info": {
      "name": "python"
    }
  },
  "cells": [
    {
      "cell_type": "markdown",
      "metadata": {
        "id": "view-in-github",
        "colab_type": "text"
      },
      "source": [
        "<a href=\"https://colab.research.google.com/github/COAP230023/atividade-praticas-em-numpy-danborghi/blob/main/AtividadeNumpy.ipynb\" target=\"_parent\"><img src=\"https://colab.research.google.com/assets/colab-badge.svg\" alt=\"Open In Colab\"/></a>"
      ]
    },
    {
      "cell_type": "markdown",
      "source": [
        "### 1. Vetor de zeros  _(fácil)_\n",
        "\n",
        "Crie um array 1D com 10 zeros usando NumPy e mostre o dtype e o shape."
      ],
      "metadata": {
        "id": "Sh_x44e1FDHy"
      }
    },
    {
      "cell_type": "code",
      "source": [
        "import numpy as np\n",
        "a1D = np.zeros(10)\n",
        "print(a1D)\n",
        "print(a1D.dtype)\n",
        "print(a1D.shape)"
      ],
      "metadata": {
        "id": "8Uhz8qziFCAl",
        "colab": {
          "base_uri": "https://localhost:8080/"
        },
        "outputId": "df865aae-af52-4db2-fdf7-1007b83fe3c4"
      },
      "execution_count": null,
      "outputs": [
        {
          "output_type": "stream",
          "name": "stdout",
          "text": [
            "[0. 0. 0. 0. 0. 0. 0. 0. 0. 0.]\n",
            "float64\n",
            "(10,)\n"
          ]
        }
      ]
    },
    {
      "cell_type": "markdown",
      "source": [
        "### 2. Vetor de uns  _(fácil)_\n",
        "\n",
        "Crie um array 1D com 10 uns e transforme-o em float64."
      ],
      "metadata": {
        "id": "JJvzgeaZKDV1"
      }
    },
    {
      "cell_type": "code",
      "source": [
        "import numpy as np\n",
        "a1D = np.ones(10)\n",
        "print(a1D)\n",
        "print(a1D.dtype)\n",
        "print(a1D.shape)"
      ],
      "metadata": {
        "colab": {
          "base_uri": "https://localhost:8080/"
        },
        "id": "5FMsWNYaKDnS",
        "outputId": "2fde20ff-8aae-411c-a99f-bcfb8b9cb7c6"
      },
      "execution_count": null,
      "outputs": [
        {
          "output_type": "stream",
          "name": "stdout",
          "text": [
            "[1. 1. 1. 1. 1. 1. 1. 1. 1. 1.]\n",
            "float64\n",
            "(10,)\n"
          ]
        }
      ]
    },
    {
      "cell_type": "markdown",
      "source": [
        "\n",
        "### 3. Sequência 0–9  _(fácil)_\n",
        "\n",
        "Crie um array com os inteiros de 0 a 9 (inclusive)."
      ],
      "metadata": {
        "id": "nn8xJ03eKXeZ"
      }
    },
    {
      "cell_type": "code",
      "source": [
        "import numpy as np\n",
        "a1D = np.arange(10)\n",
        "print(a1D)\n",
        "print(a1D.dtype)\n",
        "print(a1D.shape)"
      ],
      "metadata": {
        "colab": {
          "base_uri": "https://localhost:8080/"
        },
        "id": "rCLPo9A6KZKh",
        "outputId": "58c582d1-8d56-444f-b4b3-b2dd312caf68"
      },
      "execution_count": null,
      "outputs": [
        {
          "output_type": "stream",
          "name": "stdout",
          "text": [
            "[0 1 2 3 4 5 6 7 8 9]\n",
            "int64\n",
            "(10,)\n"
          ]
        }
      ]
    },
    {
      "cell_type": "markdown",
      "source": [
        "### 4. Matriz 3×3 com 0…8  _(fácil)_\n",
        "\n",
        "Crie um array 3×3 com os valores 0…8 (reshape).\n"
      ],
      "metadata": {
        "id": "E_OAQmizKjhu"
      }
    },
    {
      "cell_type": "code",
      "source": [
        "import numpy as np\n",
        "a2D = np.arange(9).reshape((3,3))\n",
        "print(a2D)\n",
        "print(a2D.dtype)\n",
        "print(a2D.shape)"
      ],
      "metadata": {
        "colab": {
          "base_uri": "https://localhost:8080/"
        },
        "id": "z6Ugg2hcKmM5",
        "outputId": "98f45db0-ea12-4a64-df2a-2751fcc9d762"
      },
      "execution_count": null,
      "outputs": [
        {
          "output_type": "stream",
          "name": "stdout",
          "text": [
            "[[0 1 2]\n",
            " [3 4 5]\n",
            " [6 7 8]]\n",
            "int64\n",
            "(3, 3)\n"
          ]
        }
      ]
    },
    {
      "cell_type": "markdown",
      "source": [
        "# 5. Índices não zero (fácil)"
      ],
      "metadata": {
        "id": "gyELzFBP1NTa"
      }
    },
    {
      "cell_type": "code",
      "source": [
        "\n",
        "import numpy as np\n",
        "\n",
        "v = np.array([1, 2, 0, 0, 4, 0])\n",
        "idx = np.nonzero(v)[0]\n",
        "print(idx)\n"
      ],
      "metadata": {
        "colab": {
          "base_uri": "https://localhost:8080/"
        },
        "id": "OB2UgtYF1PWG",
        "outputId": "b2ab81de-ad67-4b63-a65d-472e9d3e1ba3"
      },
      "execution_count": null,
      "outputs": [
        {
          "output_type": "stream",
          "name": "stdout",
          "text": [
            "[0 1 4]\n"
          ]
        }
      ]
    },
    {
      "cell_type": "markdown",
      "source": [
        "# 6. Linspace (fácil)"
      ],
      "metadata": {
        "id": "CtgHvHdW2OpE"
      }
    },
    {
      "cell_type": "code",
      "source": [
        "\n",
        "import numpy as np\n",
        "\n",
        "lin = np.linspace(0, 1, 12)\n",
        "print(lin)\n"
      ],
      "metadata": {
        "id": "meZNwHzK2QLf",
        "outputId": "48c291a0-e496-4574-d546-6fc96200b552",
        "colab": {
          "base_uri": "https://localhost:8080/"
        }
      },
      "execution_count": null,
      "outputs": [
        {
          "output_type": "stream",
          "name": "stdout",
          "text": [
            "[0.         0.09090909 0.18181818 0.27272727 0.36363636 0.45454545\n",
            " 0.54545455 0.63636364 0.72727273 0.81818182 0.90909091 1.        ]\n"
          ]
        }
      ]
    },
    {
      "cell_type": "markdown",
      "source": [
        "# 7. Identidade 5×5 (fácil)\n"
      ],
      "metadata": {
        "id": "0JpaEAyr2TGJ"
      }
    },
    {
      "cell_type": "code",
      "source": [
        "\n",
        "import numpy as np\n",
        "\n",
        "I = np.eye(5)\n",
        "print(I)\n"
      ],
      "metadata": {
        "id": "XewykSOj2UjS",
        "outputId": "76bbcc72-3f43-466c-ece7-b86b2bac6d1a",
        "colab": {
          "base_uri": "https://localhost:8080/"
        }
      },
      "execution_count": null,
      "outputs": [
        {
          "output_type": "stream",
          "name": "stdout",
          "text": [
            "[[1. 0. 0. 0. 0.]\n",
            " [0. 1. 0. 0. 0.]\n",
            " [0. 0. 1. 0. 0.]\n",
            " [0. 0. 0. 1. 0.]\n",
            " [0. 0. 0. 0. 1.]]\n"
          ]
        }
      ]
    },
    {
      "cell_type": "markdown",
      "source": [
        "# 8. Aleatórios 3×3×3 (fácil)\n",
        "\n"
      ],
      "metadata": {
        "id": "zp_49Mya2aZ3"
      }
    },
    {
      "cell_type": "code",
      "source": [
        "\n",
        "import numpy as np\n",
        "\n",
        "rng = np.random.default_rng(42)\n",
        "arr_3 = rng.random((3, 3, 3))\n",
        "print(arr_3)\n"
      ],
      "metadata": {
        "id": "BJ0SNEGE2bkJ",
        "outputId": "2047084e-51a5-449e-f838-5a38e118570f",
        "colab": {
          "base_uri": "https://localhost:8080/"
        }
      },
      "execution_count": null,
      "outputs": [
        {
          "output_type": "stream",
          "name": "stdout",
          "text": [
            "[[[0.77395605 0.43887844 0.85859792]\n",
            "  [0.69736803 0.09417735 0.97562235]\n",
            "  [0.7611397  0.78606431 0.12811363]]\n",
            "\n",
            " [[0.45038594 0.37079802 0.92676499]\n",
            "  [0.64386512 0.82276161 0.4434142 ]\n",
            "  [0.22723872 0.55458479 0.06381726]]\n",
            "\n",
            " [[0.82763117 0.6316644  0.75808774]\n",
            "  [0.35452597 0.97069802 0.89312112]\n",
            "  [0.7783835  0.19463871 0.466721  ]]]\n"
          ]
        }
      ]
    },
    {
      "cell_type": "markdown",
      "source": [
        "# 9. Min/Max (fácil)\n"
      ],
      "metadata": {
        "id": "GDcciaBe2jYe"
      }
    },
    {
      "cell_type": "code",
      "source": [
        "\n",
        "import numpy as np\n",
        "\n",
        "rng = np.random.default_rng()\n",
        "A = rng.random((10, 10))\n",
        "print(A.min(), A.max())\n"
      ],
      "metadata": {
        "id": "2N5euCH42kSc",
        "outputId": "c1d38206-3dc4-4dc6-8a8d-d12ffe242347",
        "colab": {
          "base_uri": "https://localhost:8080/"
        }
      },
      "execution_count": null,
      "outputs": [
        {
          "output_type": "stream",
          "name": "stdout",
          "text": [
            "0.00037478579081140495 0.9967016872878377\n"
          ]
        }
      ]
    },
    {
      "cell_type": "markdown",
      "source": [
        "# 10. Padronização 1D (fácil)"
      ],
      "metadata": {
        "id": "AU4p_YEo2oB7"
      }
    },
    {
      "cell_type": "code",
      "source": [
        "\n",
        "import numpy as np\n",
        "\n",
        "x = [1, 2, 3, 4, 5]\n",
        "x = np.array(x, dtype=float)\n",
        "x_std = (x - x.mean()) / x.std()\n",
        "print(x_std, x_std.mean(), x_std.std())\n"
      ],
      "metadata": {
        "id": "7ay61V6H2pwU",
        "outputId": "ad4351bf-30e2-4f4b-e61c-d8f504aac54e",
        "colab": {
          "base_uri": "https://localhost:8080/"
        }
      },
      "execution_count": null,
      "outputs": [
        {
          "output_type": "stream",
          "name": "stdout",
          "text": [
            "[-1.41421356 -0.70710678  0.          0.70710678  1.41421356] 0.0 0.9999999999999999\n"
          ]
        }
      ]
    },
    {
      "cell_type": "markdown",
      "source": [
        "# 11. Conversão de tipos (fácil)"
      ],
      "metadata": {
        "id": "m-8NOzkb2ucj"
      }
    },
    {
      "cell_type": "code",
      "source": [
        "\n",
        "import numpy as np\n",
        "\n",
        "a = np.array([1, 2, 3], dtype=np.int32)\n",
        "a_f32 = a.astype(np.float32)\n",
        "a_i64 = a_f32.astype(np.int64)\n",
        "print(a.dtype, a_f32.dtype, a_i64.dtype)\n"
      ],
      "metadata": {
        "id": "xgCBLBv32xfz",
        "outputId": "aa3a7bc1-cbc2-4b24-ef59-b938866041ea",
        "colab": {
          "base_uri": "https://localhost:8080/"
        }
      },
      "execution_count": null,
      "outputs": [
        {
          "output_type": "stream",
          "name": "stdout",
          "text": [
            "int32 float32 int64\n"
          ]
        }
      ]
    },
    {
      "cell_type": "markdown",
      "source": [
        "# 12. Clipping (fácil)"
      ],
      "metadata": {
        "id": "2x_-x3-B21xf"
      }
    },
    {
      "cell_type": "code",
      "source": [
        "\n",
        "import numpy as np\n",
        "\n",
        "a = np.array([2, 5, 7, 1, 9])\n",
        "clipped = np.clip(a, 0, 5)\n",
        "print(clipped)\n"
      ],
      "metadata": {
        "id": "GNaM_bbZ22-s",
        "outputId": "23042479-d03b-4de5-81d1-547ebb24bdd1",
        "colab": {
          "base_uri": "https://localhost:8080/"
        }
      },
      "execution_count": null,
      "outputs": [
        {
          "output_type": "stream",
          "name": "stdout",
          "text": [
            "[2 5 5 1 5]\n"
          ]
        }
      ]
    },
    {
      "cell_type": "markdown",
      "source": [
        "# 13. Inversão (fácil) — sem usar [::-1]"
      ],
      "metadata": {
        "id": "vGVpVaZP25JI"
      }
    },
    {
      "cell_type": "code",
      "source": [
        "\n",
        "import numpy as np\n",
        "\n",
        "v = np.arange(10)\n",
        "v_inv = np.flip(v)\n",
        "print(v_inv)\n"
      ],
      "metadata": {
        "id": "mm-mTFSR26Pz",
        "outputId": "6f37f6de-5d46-4b03-cb47-c52f88228842",
        "colab": {
          "base_uri": "https://localhost:8080/"
        }
      },
      "execution_count": null,
      "outputs": [
        {
          "output_type": "stream",
          "name": "stdout",
          "text": [
            "[9 8 7 6 5 4 3 2 1 0]\n"
          ]
        }
      ]
    },
    {
      "cell_type": "markdown",
      "source": [
        "# 14. Empilhamento (fácil)\n"
      ],
      "metadata": {
        "id": "r9QzGN5H2_Ms"
      }
    },
    {
      "cell_type": "code",
      "source": [
        "\n",
        "import numpy as np\n",
        "\n",
        "a = np.array([1, 2, 3])\n",
        "b = np.array([4, 5, 6])\n",
        "\n",
        "h = np.hstack((a, b))\n",
        "v = np.vstack((a, b))\n",
        "print(h)\n",
        "print(v)\n"
      ],
      "metadata": {
        "id": "p4A2wJoL3ALt",
        "outputId": "0ec5b3cb-04e1-4df2-d3c9-44c872f25920",
        "colab": {
          "base_uri": "https://localhost:8080/"
        }
      },
      "execution_count": null,
      "outputs": [
        {
          "output_type": "stream",
          "name": "stdout",
          "text": [
            "[1 2 3 4 5 6]\n",
            "[[1 2 3]\n",
            " [4 5 6]]\n"
          ]
        }
      ]
    },
    {
      "cell_type": "markdown",
      "source": [
        "# 15. Diagonal (fácil)\n"
      ],
      "metadata": {
        "id": "BHFfKQtv3D8T"
      }
    },
    {
      "cell_type": "code",
      "source": [
        "\n",
        "import numpy as np\n",
        "\n",
        "M = np.diag(np.full(4, 5))\n",
        "print(M)\n"
      ],
      "metadata": {
        "id": "SariKHoX3FMf",
        "outputId": "0bb2868c-7412-4806-a7eb-bcaa46a45617",
        "colab": {
          "base_uri": "https://localhost:8080/"
        }
      },
      "execution_count": null,
      "outputs": [
        {
          "output_type": "stream",
          "name": "stdout",
          "text": [
            "[[5 0 0 0]\n",
            " [0 5 0 0]\n",
            " [0 0 5 0]\n",
            " [0 0 0 5]]\n"
          ]
        }
      ]
    },
    {
      "cell_type": "markdown",
      "source": [
        "# 16. Somas por eixo (fácil)\n"
      ],
      "metadata": {
        "id": "cDyINASZ3KOM"
      }
    },
    {
      "cell_type": "code",
      "source": [
        "\n",
        "import numpy as np\n",
        "\n",
        "A = np.arange(12).reshape(3, 4)\n",
        "soma_linhas = A.sum(axis=1)\n",
        "soma_colunas = A.sum(axis=0)\n",
        "print(\"linhas:\", soma_linhas)\n",
        "print(\"colunas:\", soma_colunas)\n"
      ],
      "metadata": {
        "id": "I-Zc83U53Le7",
        "outputId": "5a30b97e-b92e-4506-9b7e-8297de87d5cf",
        "colab": {
          "base_uri": "https://localhost:8080/"
        }
      },
      "execution_count": null,
      "outputs": [
        {
          "output_type": "stream",
          "name": "stdout",
          "text": [
            "linhas: [ 6 22 38]\n",
            "colunas: [12 15 18 21]\n"
          ]
        }
      ]
    },
    {
      "cell_type": "markdown",
      "source": [
        "# 17. Frequências inteiras (fácil)\n",
        "\n"
      ],
      "metadata": {
        "id": "2pbiaWm53NQ3"
      }
    },
    {
      "cell_type": "code",
      "source": [
        "\n",
        "import numpy as np\n",
        "\n",
        "rng = np.random.default_rng(42)\n",
        "vals = rng.integers(0, 10, size=100)\n",
        "freq = np.bincount(vals, minlength=10)\n",
        "print(freq)\n"
      ],
      "metadata": {
        "id": "vfQTuISj3OVU",
        "outputId": "61fb494b-36e4-4398-a0e5-4dc93141ba2b",
        "colab": {
          "base_uri": "https://localhost:8080/"
        }
      },
      "execution_count": null,
      "outputs": [
        {
          "output_type": "stream",
          "name": "stdout",
          "text": [
            "[ 9  9  6  9 15  7 11 15 12  7]\n"
          ]
        }
      ]
    },
    {
      "cell_type": "markdown",
      "source": [
        "# 18. Slicing com passo (fácil)\n"
      ],
      "metadata": {
        "id": "KQYu0XGG3RfP"
      }
    },
    {
      "cell_type": "code",
      "source": [
        "\n",
        "import numpy as np\n",
        "\n",
        "v = np.arange(20)\n",
        "sel = v[1::3]\n",
        "print(sel)\n"
      ],
      "metadata": {
        "id": "o1iOiII93SQ7",
        "outputId": "aae8d850-c772-4646-9506-4ac6ba2fb931",
        "colab": {
          "base_uri": "https://localhost:8080/"
        }
      },
      "execution_count": null,
      "outputs": [
        {
          "output_type": "stream",
          "name": "stdout",
          "text": [
            "[ 1  4  7 10 13 16 19]\n"
          ]
        }
      ]
    },
    {
      "cell_type": "markdown",
      "source": [
        "# 19. Máscara booleana (fácil)\n"
      ],
      "metadata": {
        "id": "Jydz5xPm3VCr"
      }
    },
    {
      "cell_type": "code",
      "source": [
        "\n",
        "import numpy as np\n",
        "\n",
        "v = np.arange(20)\n",
        "mask = (v % 2 == 0)\n",
        "pares = v[mask]\n",
        "print(mask)\n",
        "print(pares)\n"
      ],
      "metadata": {
        "id": "k5HFqvFn3W5m",
        "outputId": "e2ecde98-7dc6-4746-d4ae-55676528770b",
        "colab": {
          "base_uri": "https://localhost:8080/"
        }
      },
      "execution_count": null,
      "outputs": [
        {
          "output_type": "stream",
          "name": "stdout",
          "text": [
            "[ True False  True False  True False  True False  True False  True False\n",
            "  True False  True False  True False  True False]\n",
            "[ 0  2  4  6  8 10 12 14 16 18]\n"
          ]
        }
      ]
    },
    {
      "cell_type": "markdown",
      "source": [
        "# 20. Lista de listas → array (fácil)\n"
      ],
      "metadata": {
        "id": "HpQChbIH3uov"
      }
    },
    {
      "cell_type": "code",
      "source": [
        "\n",
        "import numpy as np\n",
        "\n",
        "L = [[1, 2, 3], [4, 5, 6]]\n",
        "arr = np.array(L)\n",
        "print(arr)\n",
        "print(\"shape:\", arr.shape, \"dtype:\", arr.dtype)\n"
      ],
      "metadata": {
        "id": "Pvo5qX-Q3vgp",
        "outputId": "b03bface-7886-45ce-b5d2-73b6491b761a",
        "colab": {
          "base_uri": "https://localhost:8080/"
        }
      },
      "execution_count": null,
      "outputs": [
        {
          "output_type": "stream",
          "name": "stdout",
          "text": [
            "[[1 2 3]\n",
            " [4 5 6]]\n",
            "shape: (2, 3) dtype: int64\n"
          ]
        }
      ]
    },
    {
      "cell_type": "markdown",
      "source": [
        "# 21. Datas básicas (fácil)\n"
      ],
      "metadata": {
        "id": "pm8psxau3xIn"
      }
    },
    {
      "cell_type": "code",
      "source": [
        "\n",
        "import numpy as np\n",
        "\n",
        "datas = np.arange('2025-01-01', '2025-01-08', dtype='datetime64[D]')\n",
        "print(datas)\n"
      ],
      "metadata": {
        "id": "kG7rWk2u3yL7",
        "outputId": "daba6772-c882-4094-f791-5c784725a5b4",
        "colab": {
          "base_uri": "https://localhost:8080/"
        }
      },
      "execution_count": null,
      "outputs": [
        {
          "output_type": "stream",
          "name": "stdout",
          "text": [
            "['2025-01-01' '2025-01-02' '2025-01-03' '2025-01-04' '2025-01-05'\n",
            " '2025-01-06' '2025-01-07']\n"
          ]
        }
      ]
    },
    {
      "cell_type": "markdown",
      "source": [
        "# 22. Centralizar colunas (fácil)\n"
      ],
      "metadata": {
        "id": "bVVFpNMF348A"
      }
    },
    {
      "cell_type": "code",
      "source": [
        "\n",
        "import numpy as np\n",
        "\n",
        "A = np.array([[1., 2., 3.],\n",
        "              [4., 5., 6.]])\n",
        "A_centered = A - A.mean(axis=0, keepdims=True)\n",
        "print(A_centered)\n"
      ],
      "metadata": {
        "id": "kWiUksN236Yl",
        "outputId": "f6034e19-07ae-4c3e-fd58-9447e7756e17",
        "colab": {
          "base_uri": "https://localhost:8080/"
        }
      },
      "execution_count": null,
      "outputs": [
        {
          "output_type": "stream",
          "name": "stdout",
          "text": [
            "[[-1.5 -1.5 -1.5]\n",
            " [ 1.5  1.5  1.5]]\n"
          ]
        }
      ]
    },
    {
      "cell_type": "markdown",
      "source": [
        "# 23. Produto elemento-a-elemento vs. escalar (fácil)\n"
      ],
      "metadata": {
        "id": "nyK3euWQ38z-"
      }
    },
    {
      "cell_type": "code",
      "source": [
        "\n",
        "import numpy as np\n",
        "\n",
        "a = np.array([1, 2, 3])\n",
        "b = np.array([4, 5, 6])\n",
        "\n",
        "elem = a * b\n",
        "dot1 = np.dot(a, b)\n",
        "dot2 = a @ b\n",
        "print(elem, dot1, dot2)\n"
      ],
      "metadata": {
        "id": "HnYO6N3R39-Z",
        "outputId": "cc208135-e398-4f70-ef71-4c309a484ae3",
        "colab": {
          "base_uri": "https://localhost:8080/"
        }
      },
      "execution_count": null,
      "outputs": [
        {
          "output_type": "stream",
          "name": "stdout",
          "text": [
            "[ 4 10 18] 32 32\n"
          ]
        }
      ]
    },
    {
      "cell_type": "markdown",
      "source": [
        "# 24. Troca de colunas (fácil)\n",
        "\n"
      ],
      "metadata": {
        "id": "OWIxXFp_4BsK"
      }
    },
    {
      "cell_type": "code",
      "source": [
        "\n",
        "import numpy as np\n",
        "\n",
        "A = np.arange(12).reshape(3, 4)\n",
        "tmp = A[:, 0].copy()\n",
        "A[:, 0] = A[:, 2]\n",
        "A[:, 2] = tmp\n",
        "print(A)\n",
        "\n"
      ],
      "metadata": {
        "colab": {
          "base_uri": "https://localhost:8080/"
        },
        "id": "PvZ5nbcH4DEJ",
        "outputId": "368ea81b-835d-45db-be2e-7c0e186860e5"
      },
      "execution_count": null,
      "outputs": [
        {
          "output_type": "stream",
          "name": "stdout",
          "text": [
            "[[ 2  1  0  3]\n",
            " [ 6  5  4  7]\n",
            " [10  9  8 11]]\n"
          ]
        }
      ]
    }
  ]
}