{
  "nbformat": 4,
  "nbformat_minor": 0,
  "metadata": {
    "colab": {
      "provenance": [],
      "authorship_tag": "ABX9TyPe16xrHF0pbyfA4VxnCNVv",
      "include_colab_link": true
    },
    "kernelspec": {
      "name": "python3",
      "display_name": "Python 3"
    },
    "language_info": {
      "name": "python"
    }
  },
  "cells": [
    {
      "cell_type": "markdown",
      "metadata": {
        "id": "view-in-github",
        "colab_type": "text"
      },
      "source": [
        "<a href=\"https://colab.research.google.com/github/COAP230023/atividade-praticas-em-numpy-danborghi/blob/main/AtividadeNumpy.ipynb\" target=\"_parent\"><img src=\"https://colab.research.google.com/assets/colab-badge.svg\" alt=\"Open In Colab\"/></a>"
      ]
    },
    {
      "cell_type": "markdown",
      "source": [
        "### 1. Vetor de zeros  _(fácil)_\n",
        "\n",
        "Crie um array 1D com 10 zeros usando NumPy e mostre o dtype e o shape."
      ],
      "metadata": {
        "id": "Sh_x44e1FDHy"
      }
    },
    {
      "cell_type": "code",
      "source": [
        "import numpy as np\n",
        "a1D = np.zeros(10)\n",
        "print(a1D)\n",
        "print(a1D.dtype)\n",
        "print(a1D.shape)"
      ],
      "metadata": {
        "id": "8Uhz8qziFCAl",
        "colab": {
          "base_uri": "https://localhost:8080/"
        },
        "outputId": "712f195e-c14c-47a8-a500-414101373851"
      },
      "execution_count": 2,
      "outputs": [
        {
          "output_type": "stream",
          "name": "stdout",
          "text": [
            "[0. 0. 0. 0. 0. 0. 0. 0. 0. 0.]\n",
            "float64\n",
            "(10,)\n"
          ]
        }
      ]
    },
    {
      "cell_type": "markdown",
      "source": [
        "### 2. Vetor de uns  _(fácil)_\n",
        "\n",
        "Crie um array 1D com 10 uns e transforme-o em float64."
      ],
      "metadata": {
        "id": "JJvzgeaZKDV1"
      }
    },
    {
      "cell_type": "code",
      "source": [
        "import numpy as np\n",
        "a1D = np.ones(10)\n",
        "print(a1D)\n",
        "print(a1D.dtype)\n",
        "print(a1D.shape)"
      ],
      "metadata": {
        "colab": {
          "base_uri": "https://localhost:8080/"
        },
        "id": "5FMsWNYaKDnS",
        "outputId": "f53a37c3-415e-4b85-891b-322679eda629"
      },
      "execution_count": 3,
      "outputs": [
        {
          "output_type": "stream",
          "name": "stdout",
          "text": [
            "[1. 1. 1. 1. 1. 1. 1. 1. 1. 1.]\n",
            "float64\n",
            "(10,)\n"
          ]
        }
      ]
    },
    {
      "cell_type": "markdown",
      "source": [
        "\n",
        "### 3. Sequência 0–9  _(fácil)_\n",
        "\n",
        "Crie um array com os inteiros de 0 a 9 (inclusive)."
      ],
      "metadata": {
        "id": "nn8xJ03eKXeZ"
      }
    },
    {
      "cell_type": "code",
      "source": [
        "import numpy as np\n",
        "a1D = np.arange(10)\n",
        "print(a1D)\n",
        "print(a1D.dtype)\n",
        "print(a1D.shape)"
      ],
      "metadata": {
        "colab": {
          "base_uri": "https://localhost:8080/"
        },
        "id": "rCLPo9A6KZKh",
        "outputId": "769967a3-e25f-47f2-fd6e-a86aa1ea588b"
      },
      "execution_count": 4,
      "outputs": [
        {
          "output_type": "stream",
          "name": "stdout",
          "text": [
            "[0 1 2 3 4 5 6 7 8 9]\n",
            "int64\n",
            "(10,)\n"
          ]
        }
      ]
    },
    {
      "cell_type": "markdown",
      "source": [
        "### 4. Matriz 3×3 com 0…8  _(fácil)_\n",
        "\n",
        "Crie um array 3×3 com os valores 0…8 (reshape).\n"
      ],
      "metadata": {
        "id": "E_OAQmizKjhu"
      }
    },
    {
      "cell_type": "code",
      "source": [
        "import numpy as np\n",
        "a2D = np.arange(9).reshape((3,3))\n",
        "print(a2D)\n",
        "print(a2D.dtype)\n",
        "print(a2D.shape)"
      ],
      "metadata": {
        "colab": {
          "base_uri": "https://localhost:8080/"
        },
        "id": "z6Ugg2hcKmM5",
        "outputId": "fbe83bc2-016c-48d8-8971-d99050de32de"
      },
      "execution_count": 5,
      "outputs": [
        {
          "output_type": "stream",
          "name": "stdout",
          "text": [
            "[[0 1 2]\n",
            " [3 4 5]\n",
            " [6 7 8]]\n",
            "int64\n",
            "(3, 3)\n"
          ]
        }
      ]
    },
    {
      "cell_type": "markdown",
      "source": [
        "# 5. Índices não zero (fácil)"
      ],
      "metadata": {
        "id": "gyELzFBP1NTa"
      }
    },
    {
      "cell_type": "code",
      "source": [
        "\n",
        "import numpy as np\n",
        "\n",
        "v = np.array([1, 2, 0, 0, 4, 0])\n",
        "idx = np.nonzero(v)[0]\n",
        "print(idx)\n"
      ],
      "metadata": {
        "colab": {
          "base_uri": "https://localhost:8080/"
        },
        "id": "OB2UgtYF1PWG",
        "outputId": "37ef7c94-9ef2-49ee-9188-50cc9c84f8f4"
      },
      "execution_count": 6,
      "outputs": [
        {
          "output_type": "stream",
          "name": "stdout",
          "text": [
            "[0 1 4]\n"
          ]
        }
      ]
    },
    {
      "cell_type": "markdown",
      "source": [
        "# 6. Linspace (fácil)"
      ],
      "metadata": {
        "id": "CtgHvHdW2OpE"
      }
    },
    {
      "cell_type": "code",
      "source": [
        "\n",
        "import numpy as np\n",
        "\n",
        "lin = np.linspace(0, 1, 12)\n",
        "print(lin)\n"
      ],
      "metadata": {
        "id": "meZNwHzK2QLf",
        "outputId": "7a62007c-5f6c-4eba-bea7-49d7a4b31e95",
        "colab": {
          "base_uri": "https://localhost:8080/"
        }
      },
      "execution_count": 7,
      "outputs": [
        {
          "output_type": "stream",
          "name": "stdout",
          "text": [
            "[0.         0.09090909 0.18181818 0.27272727 0.36363636 0.45454545\n",
            " 0.54545455 0.63636364 0.72727273 0.81818182 0.90909091 1.        ]\n"
          ]
        }
      ]
    },
    {
      "cell_type": "markdown",
      "source": [
        "# 7. Identidade 5×5 (fácil)\n"
      ],
      "metadata": {
        "id": "0JpaEAyr2TGJ"
      }
    },
    {
      "cell_type": "code",
      "source": [
        "\n",
        "import numpy as np\n",
        "\n",
        "I = np.eye(5)\n",
        "print(I)\n"
      ],
      "metadata": {
        "id": "XewykSOj2UjS",
        "outputId": "dee39b6e-2509-4acd-da27-62573d092712",
        "colab": {
          "base_uri": "https://localhost:8080/"
        }
      },
      "execution_count": 8,
      "outputs": [
        {
          "output_type": "stream",
          "name": "stdout",
          "text": [
            "[[1. 0. 0. 0. 0.]\n",
            " [0. 1. 0. 0. 0.]\n",
            " [0. 0. 1. 0. 0.]\n",
            " [0. 0. 0. 1. 0.]\n",
            " [0. 0. 0. 0. 1.]]\n"
          ]
        }
      ]
    },
    {
      "cell_type": "markdown",
      "source": [
        "# 8. Aleatórios 3×3×3 (fácil)\n",
        "\n"
      ],
      "metadata": {
        "id": "zp_49Mya2aZ3"
      }
    },
    {
      "cell_type": "code",
      "source": [
        "\n",
        "import numpy as np\n",
        "\n",
        "rng = np.random.default_rng(42)\n",
        "arr_3 = rng.random((3, 3, 3))\n",
        "print(arr_3)\n"
      ],
      "metadata": {
        "id": "BJ0SNEGE2bkJ",
        "outputId": "a0194b0d-1e92-460c-9497-7386c819e7d5",
        "colab": {
          "base_uri": "https://localhost:8080/"
        }
      },
      "execution_count": 9,
      "outputs": [
        {
          "output_type": "stream",
          "name": "stdout",
          "text": [
            "[[[0.77395605 0.43887844 0.85859792]\n",
            "  [0.69736803 0.09417735 0.97562235]\n",
            "  [0.7611397  0.78606431 0.12811363]]\n",
            "\n",
            " [[0.45038594 0.37079802 0.92676499]\n",
            "  [0.64386512 0.82276161 0.4434142 ]\n",
            "  [0.22723872 0.55458479 0.06381726]]\n",
            "\n",
            " [[0.82763117 0.6316644  0.75808774]\n",
            "  [0.35452597 0.97069802 0.89312112]\n",
            "  [0.7783835  0.19463871 0.466721  ]]]\n"
          ]
        }
      ]
    },
    {
      "cell_type": "markdown",
      "source": [
        "# 9. Min/Max (fácil)\n"
      ],
      "metadata": {
        "id": "GDcciaBe2jYe"
      }
    },
    {
      "cell_type": "code",
      "source": [
        "\n",
        "import numpy as np\n",
        "\n",
        "rng = np.random.default_rng()\n",
        "A = rng.random((10, 10))\n",
        "print(A.min(), A.max())\n"
      ],
      "metadata": {
        "id": "2N5euCH42kSc",
        "outputId": "42a0c47d-5554-4fa5-b547-422ef7e2d64b",
        "colab": {
          "base_uri": "https://localhost:8080/"
        }
      },
      "execution_count": 10,
      "outputs": [
        {
          "output_type": "stream",
          "name": "stdout",
          "text": [
            "0.004201978013798513 0.9953168636954565\n"
          ]
        }
      ]
    },
    {
      "cell_type": "markdown",
      "source": [
        "# 10. Padronização 1D (fácil)"
      ],
      "metadata": {
        "id": "AU4p_YEo2oB7"
      }
    },
    {
      "cell_type": "code",
      "source": [
        "\n",
        "import numpy as np\n",
        "\n",
        "x = [1, 2, 3, 4, 5]\n",
        "x = np.array(x, dtype=float)\n",
        "x_std = (x - x.mean()) / x.std()\n",
        "print(x_std, x_std.mean(), x_std.std())\n"
      ],
      "metadata": {
        "id": "7ay61V6H2pwU",
        "outputId": "68d3c9b2-0f8c-4268-8814-b13d88ba2f00",
        "colab": {
          "base_uri": "https://localhost:8080/"
        }
      },
      "execution_count": 11,
      "outputs": [
        {
          "output_type": "stream",
          "name": "stdout",
          "text": [
            "[-1.41421356 -0.70710678  0.          0.70710678  1.41421356] 0.0 0.9999999999999999\n"
          ]
        }
      ]
    },
    {
      "cell_type": "markdown",
      "source": [
        "# 11. Conversão de tipos (fácil)"
      ],
      "metadata": {
        "id": "m-8NOzkb2ucj"
      }
    },
    {
      "cell_type": "code",
      "source": [
        "\n",
        "import numpy as np\n",
        "\n",
        "a = np.array([1, 2, 3], dtype=np.int32)\n",
        "a_f32 = a.astype(np.float32)\n",
        "a_i64 = a_f32.astype(np.int64)\n",
        "print(a.dtype, a_f32.dtype, a_i64.dtype)\n"
      ],
      "metadata": {
        "id": "xgCBLBv32xfz",
        "outputId": "f7daad2e-85c5-4a3a-8687-7d52f5fd9cfe",
        "colab": {
          "base_uri": "https://localhost:8080/"
        }
      },
      "execution_count": 12,
      "outputs": [
        {
          "output_type": "stream",
          "name": "stdout",
          "text": [
            "int32 float32 int64\n"
          ]
        }
      ]
    },
    {
      "cell_type": "markdown",
      "source": [
        "# 12. Clipping (fácil)"
      ],
      "metadata": {
        "id": "2x_-x3-B21xf"
      }
    },
    {
      "cell_type": "code",
      "source": [
        "\n",
        "import numpy as np\n",
        "\n",
        "a = np.array([2, 5, 7, 1, 9])\n",
        "clipped = np.clip(a, 0, 5)\n",
        "print(clipped)\n"
      ],
      "metadata": {
        "id": "GNaM_bbZ22-s",
        "outputId": "0d49e8ce-edc0-4345-ad1e-2ea6111b79a2",
        "colab": {
          "base_uri": "https://localhost:8080/"
        }
      },
      "execution_count": 13,
      "outputs": [
        {
          "output_type": "stream",
          "name": "stdout",
          "text": [
            "[2 5 5 1 5]\n"
          ]
        }
      ]
    },
    {
      "cell_type": "markdown",
      "source": [
        "# 13. Inversão (fácil) — sem usar [::-1]"
      ],
      "metadata": {
        "id": "vGVpVaZP25JI"
      }
    },
    {
      "cell_type": "code",
      "source": [
        "\n",
        "import numpy as np\n",
        "\n",
        "v = np.arange(10)\n",
        "v_inv = np.flip(v)\n",
        "print(v_inv)\n"
      ],
      "metadata": {
        "id": "mm-mTFSR26Pz",
        "outputId": "2a5be752-1bee-4f42-fcee-1367894e3362",
        "colab": {
          "base_uri": "https://localhost:8080/"
        }
      },
      "execution_count": 14,
      "outputs": [
        {
          "output_type": "stream",
          "name": "stdout",
          "text": [
            "[9 8 7 6 5 4 3 2 1 0]\n"
          ]
        }
      ]
    },
    {
      "cell_type": "markdown",
      "source": [
        "# 14. Empilhamento (fácil)\n"
      ],
      "metadata": {
        "id": "r9QzGN5H2_Ms"
      }
    },
    {
      "cell_type": "code",
      "source": [
        "\n",
        "import numpy as np\n",
        "\n",
        "a = np.array([1, 2, 3])\n",
        "b = np.array([4, 5, 6])\n",
        "\n",
        "h = np.hstack((a, b))\n",
        "v = np.vstack((a, b))\n",
        "print(h)\n",
        "print(v)\n"
      ],
      "metadata": {
        "id": "p4A2wJoL3ALt",
        "outputId": "cf75625a-a205-4872-c7b3-8464fec8f61e",
        "colab": {
          "base_uri": "https://localhost:8080/"
        }
      },
      "execution_count": 15,
      "outputs": [
        {
          "output_type": "stream",
          "name": "stdout",
          "text": [
            "[1 2 3 4 5 6]\n",
            "[[1 2 3]\n",
            " [4 5 6]]\n"
          ]
        }
      ]
    },
    {
      "cell_type": "markdown",
      "source": [
        "# 15. Diagonal (fácil)\n"
      ],
      "metadata": {
        "id": "BHFfKQtv3D8T"
      }
    },
    {
      "cell_type": "code",
      "source": [
        "\n",
        "import numpy as np\n",
        "\n",
        "M = np.diag(np.full(4, 5))\n",
        "print(M)\n"
      ],
      "metadata": {
        "id": "SariKHoX3FMf",
        "outputId": "bb1e88fc-a3f3-42c1-a527-62238df209b6",
        "colab": {
          "base_uri": "https://localhost:8080/"
        }
      },
      "execution_count": 16,
      "outputs": [
        {
          "output_type": "stream",
          "name": "stdout",
          "text": [
            "[[5 0 0 0]\n",
            " [0 5 0 0]\n",
            " [0 0 5 0]\n",
            " [0 0 0 5]]\n"
          ]
        }
      ]
    },
    {
      "cell_type": "markdown",
      "source": [
        "# 16. Somas por eixo (fácil)\n"
      ],
      "metadata": {
        "id": "cDyINASZ3KOM"
      }
    },
    {
      "cell_type": "code",
      "source": [
        "\n",
        "import numpy as np\n",
        "\n",
        "A = np.arange(12).reshape(3, 4)\n",
        "soma_linhas = A.sum(axis=1)\n",
        "soma_colunas = A.sum(axis=0)\n",
        "print(\"linhas:\", soma_linhas)\n",
        "print(\"colunas:\", soma_colunas)\n"
      ],
      "metadata": {
        "id": "I-Zc83U53Le7",
        "outputId": "bc6185f6-3efb-4f89-b0b7-0b2b820adf55",
        "colab": {
          "base_uri": "https://localhost:8080/"
        }
      },
      "execution_count": 17,
      "outputs": [
        {
          "output_type": "stream",
          "name": "stdout",
          "text": [
            "linhas: [ 6 22 38]\n",
            "colunas: [12 15 18 21]\n"
          ]
        }
      ]
    },
    {
      "cell_type": "markdown",
      "source": [
        "# 17. Frequências inteiras (fácil)\n",
        "\n"
      ],
      "metadata": {
        "id": "2pbiaWm53NQ3"
      }
    },
    {
      "cell_type": "code",
      "source": [
        "\n",
        "import numpy as np\n",
        "\n",
        "rng = np.random.default_rng(42)\n",
        "vals = rng.integers(0, 10, size=100)\n",
        "freq = np.bincount(vals, minlength=10)\n",
        "print(freq)\n"
      ],
      "metadata": {
        "id": "vfQTuISj3OVU",
        "outputId": "0ad62ab7-74ee-4791-eaf8-175df4d6fda4",
        "colab": {
          "base_uri": "https://localhost:8080/"
        }
      },
      "execution_count": 18,
      "outputs": [
        {
          "output_type": "stream",
          "name": "stdout",
          "text": [
            "[ 9  9  6  9 15  7 11 15 12  7]\n"
          ]
        }
      ]
    },
    {
      "cell_type": "markdown",
      "source": [
        "# 18. Slicing com passo (fácil)\n"
      ],
      "metadata": {
        "id": "KQYu0XGG3RfP"
      }
    },
    {
      "cell_type": "code",
      "source": [
        "\n",
        "import numpy as np\n",
        "\n",
        "v = np.arange(20)\n",
        "sel = v[1::3]\n",
        "print(sel)\n"
      ],
      "metadata": {
        "id": "o1iOiII93SQ7",
        "outputId": "cf318aa5-d468-4239-b2d2-8c8f3e6c2037",
        "colab": {
          "base_uri": "https://localhost:8080/"
        }
      },
      "execution_count": 19,
      "outputs": [
        {
          "output_type": "stream",
          "name": "stdout",
          "text": [
            "[ 1  4  7 10 13 16 19]\n"
          ]
        }
      ]
    },
    {
      "cell_type": "markdown",
      "source": [
        "# 19. Máscara booleana (fácil)\n"
      ],
      "metadata": {
        "id": "Jydz5xPm3VCr"
      }
    },
    {
      "cell_type": "code",
      "source": [
        "\n",
        "import numpy as np\n",
        "\n",
        "v = np.arange(20)\n",
        "mask = (v % 2 == 0)\n",
        "pares = v[mask]\n",
        "print(mask)\n",
        "print(pares)\n"
      ],
      "metadata": {
        "id": "k5HFqvFn3W5m",
        "outputId": "889eb42e-1025-4336-c9e6-1e29c40f5dff",
        "colab": {
          "base_uri": "https://localhost:8080/"
        }
      },
      "execution_count": 20,
      "outputs": [
        {
          "output_type": "stream",
          "name": "stdout",
          "text": [
            "[ True False  True False  True False  True False  True False  True False\n",
            "  True False  True False  True False  True False]\n",
            "[ 0  2  4  6  8 10 12 14 16 18]\n"
          ]
        }
      ]
    },
    {
      "cell_type": "markdown",
      "source": [
        "# 20. Lista de listas → array (fácil)\n"
      ],
      "metadata": {
        "id": "HpQChbIH3uov"
      }
    },
    {
      "cell_type": "code",
      "source": [
        "\n",
        "import numpy as np\n",
        "\n",
        "L = [[1, 2, 3], [4, 5, 6]]\n",
        "arr = np.array(L)\n",
        "print(arr)\n",
        "print(\"shape:\", arr.shape, \"dtype:\", arr.dtype)\n"
      ],
      "metadata": {
        "id": "Pvo5qX-Q3vgp",
        "outputId": "15ca9e29-d9a2-4440-a812-46a45d384528",
        "colab": {
          "base_uri": "https://localhost:8080/"
        }
      },
      "execution_count": 21,
      "outputs": [
        {
          "output_type": "stream",
          "name": "stdout",
          "text": [
            "[[1 2 3]\n",
            " [4 5 6]]\n",
            "shape: (2, 3) dtype: int64\n"
          ]
        }
      ]
    },
    {
      "cell_type": "markdown",
      "source": [
        "# 21. Datas básicas (fácil)\n"
      ],
      "metadata": {
        "id": "pm8psxau3xIn"
      }
    },
    {
      "cell_type": "code",
      "source": [
        "\n",
        "import numpy as np\n",
        "\n",
        "datas = np.arange('2025-01-01', '2025-01-08', dtype='datetime64[D]')\n",
        "print(datas)\n"
      ],
      "metadata": {
        "id": "kG7rWk2u3yL7",
        "outputId": "29d343bf-5150-49e1-dcaa-9206c849215f",
        "colab": {
          "base_uri": "https://localhost:8080/"
        }
      },
      "execution_count": 22,
      "outputs": [
        {
          "output_type": "stream",
          "name": "stdout",
          "text": [
            "['2025-01-01' '2025-01-02' '2025-01-03' '2025-01-04' '2025-01-05'\n",
            " '2025-01-06' '2025-01-07']\n"
          ]
        }
      ]
    },
    {
      "cell_type": "markdown",
      "source": [
        "# 22. Centralizar colunas (fácil)\n"
      ],
      "metadata": {
        "id": "bVVFpNMF348A"
      }
    },
    {
      "cell_type": "code",
      "source": [
        "\n",
        "import numpy as np\n",
        "\n",
        "A = np.array([[1., 2., 3.],\n",
        "              [4., 5., 6.]])\n",
        "A_centered = A - A.mean(axis=0, keepdims=True)\n",
        "print(A_centered)\n"
      ],
      "metadata": {
        "id": "kWiUksN236Yl",
        "outputId": "45918f03-3642-42e4-afcc-bbd0c9d3f370",
        "colab": {
          "base_uri": "https://localhost:8080/"
        }
      },
      "execution_count": 23,
      "outputs": [
        {
          "output_type": "stream",
          "name": "stdout",
          "text": [
            "[[-1.5 -1.5 -1.5]\n",
            " [ 1.5  1.5  1.5]]\n"
          ]
        }
      ]
    },
    {
      "cell_type": "markdown",
      "source": [
        "# 23. Produto elemento-a-elemento vs. escalar (fácil)\n"
      ],
      "metadata": {
        "id": "nyK3euWQ38z-"
      }
    },
    {
      "cell_type": "code",
      "source": [
        "\n",
        "import numpy as np\n",
        "\n",
        "a = np.array([1, 2, 3])\n",
        "b = np.array([4, 5, 6])\n",
        "\n",
        "elem = a * b\n",
        "dot1 = np.dot(a, b)\n",
        "dot2 = a @ b\n",
        "print(elem, dot1, dot2)\n"
      ],
      "metadata": {
        "id": "HnYO6N3R39-Z",
        "outputId": "3df63f44-fd7f-4abf-d290-e014b52f5d0b",
        "colab": {
          "base_uri": "https://localhost:8080/"
        }
      },
      "execution_count": 24,
      "outputs": [
        {
          "output_type": "stream",
          "name": "stdout",
          "text": [
            "[ 4 10 18] 32 32\n"
          ]
        }
      ]
    },
    {
      "cell_type": "markdown",
      "source": [
        "# 24. Troca de colunas (fácil)\n",
        "\n"
      ],
      "metadata": {
        "id": "OWIxXFp_4BsK"
      }
    },
    {
      "cell_type": "code",
      "source": [
        "\n",
        "import numpy as np\n",
        "\n",
        "A = np.arange(12).reshape(3, 4)\n",
        "tmp = A[:, 0].copy()\n",
        "A[:, 0] = A[:, 2]\n",
        "A[:, 2] = tmp\n",
        "print(A)\n",
        "\n"
      ],
      "metadata": {
        "colab": {
          "base_uri": "https://localhost:8080/"
        },
        "id": "PvZ5nbcH4DEJ",
        "outputId": "eca5f058-8d01-4001-ec8e-c1f732c4b557"
      },
      "execution_count": 25,
      "outputs": [
        {
          "output_type": "stream",
          "name": "stdout",
          "text": [
            "[[ 2  1  0  3]\n",
            " [ 6  5  4  7]\n",
            " [10  9  8 11]]\n"
          ]
        }
      ]
    },
    {
      "cell_type": "markdown",
      "source": [
        "\n",
        "### 25. Flatten vs. ravel  _(médio)_\n",
        "\n",
        "Mostre a diferença entre `flatten()` (cópia) e `ravel()` (view quando possível). Modifique o resultado de `ravel()` e observe o original.\n"
      ],
      "metadata": {
        "id": "Ap8evGHgFiky"
      }
    },
    {
      "cell_type": "code",
      "source": [
        "import numpy as np\n",
        "\n",
        "A = np.arange(6).reshape(2, 3)\n",
        "f = A.flatten()\n",
        "r = A.ravel()\n",
        "\n",
        "print(\"A original:\\n\", A)\n",
        "print(\"shares_memory(A, f)?\", np.shares_memory(A, f))\n",
        "print(\"shares_memory(A, r)?\", np.shares_memory(A, r))\n",
        "\n",
        "r[0] = 999\n",
        "print(\"\\nApós r[0]=999:\")\n",
        "print(\"A:\\n\", A)\n",
        "print(\"f (cópia, não muda):\\n\", f)\n"
      ],
      "metadata": {
        "colab": {
          "base_uri": "https://localhost:8080/"
        },
        "id": "tc_xLeGzFhjf",
        "outputId": "b1fe1c6e-a033-4e00-a476-2721ed8a09ad"
      },
      "execution_count": 26,
      "outputs": [
        {
          "output_type": "stream",
          "name": "stdout",
          "text": [
            "A original:\n",
            " [[0 1 2]\n",
            " [3 4 5]]\n",
            "shares_memory(A, f)? False\n",
            "shares_memory(A, r)? True\n",
            "\n",
            "Após r[0]=999:\n",
            "A:\n",
            " [[999   1   2]\n",
            " [  3   4   5]]\n",
            "f (cópia, não muda):\n",
            " [0 1 2 3 4 5]\n"
          ]
        }
      ]
    },
    {
      "cell_type": "markdown",
      "source": [
        "### 26. Tabuleiro 8×8  _(médio)_\n",
        "\n",
        "Crie uma matriz 8×8 com padrão de tabuleiro (0 e 1 alternados)."
      ],
      "metadata": {
        "id": "gCh6HpPAGpM2"
      }
    },
    {
      "cell_type": "code",
      "source": [
        "import numpy as np\n",
        "\n",
        "board = (np.indices((8, 8)).sum(axis=0) % 2).astype(int)\n",
        "print(board)\n"
      ],
      "metadata": {
        "colab": {
          "base_uri": "https://localhost:8080/"
        },
        "id": "icY3_Z58GoB6",
        "outputId": "1f870bc4-fb42-490e-b10b-cffbbbb8c778"
      },
      "execution_count": 27,
      "outputs": [
        {
          "output_type": "stream",
          "name": "stdout",
          "text": [
            "[[0 1 0 1 0 1 0 1]\n",
            " [1 0 1 0 1 0 1 0]\n",
            " [0 1 0 1 0 1 0 1]\n",
            " [1 0 1 0 1 0 1 0]\n",
            " [0 1 0 1 0 1 0 1]\n",
            " [1 0 1 0 1 0 1 0]\n",
            " [0 1 0 1 0 1 0 1]\n",
            " [1 0 1 0 1 0 1 0]]\n"
          ]
        }
      ]
    },
    {
      "cell_type": "markdown",
      "source": [
        "### 27. np.where condicional  _(médio)_\n",
        "\n",
        "Dado `x = np.arange(-5,6)`, substitua negativos por 0 e mantenha não-negativos."
      ],
      "metadata": {
        "id": "7X9i0dLwGtfT"
      }
    },
    {
      "cell_type": "code",
      "source": [
        "import numpy as np\n",
        "\n",
        "x = np.arange(-5, 6)\n",
        "y = np.where(x < 0, 0, x)\n",
        "print(\"x:\", x)\n",
        "print(\"y:\", y)\n"
      ],
      "metadata": {
        "colab": {
          "base_uri": "https://localhost:8080/"
        },
        "id": "TeH50bfYGxXB",
        "outputId": "811bb314-f28d-487b-9f23-ef2461597455"
      },
      "execution_count": 28,
      "outputs": [
        {
          "output_type": "stream",
          "name": "stdout",
          "text": [
            "x: [-5 -4 -3 -2 -1  0  1  2  3  4  5]\n",
            "y: [0 0 0 0 0 0 1 2 3 4 5]\n"
          ]
        }
      ]
    },
    {
      "cell_type": "markdown",
      "source": [
        "### 28. Precisão de média  _(médio)_\n",
        "\n",
        "Gere 1_000_000 floats uniformes em [0,1) e compute a média. Compare com o valor teórico 0.5 (erro absoluto)."
      ],
      "metadata": {
        "id": "5tAlu4bvHDS3"
      }
    },
    {
      "cell_type": "code",
      "source": [
        "import numpy as np\n",
        "\n",
        "rng = np.random.default_rng(42)\n",
        "samples = rng.random(1_000_000)\n",
        "m = samples.mean()\n",
        "err_abs = abs(m - 0.5)\n",
        "print(\"média:\", m, \"erro absoluto:\", err_abs)\n"
      ],
      "metadata": {
        "colab": {
          "base_uri": "https://localhost:8080/"
        },
        "id": "Ads7FCNWHCMM",
        "outputId": "4f12b16e-ab15-4307-b325-fcccbba0dd58"
      },
      "execution_count": 29,
      "outputs": [
        {
          "output_type": "stream",
          "name": "stdout",
          "text": [
            "média: 0.5000264761740889 erro absoluto: 2.6476174088907456e-05\n"
          ]
        }
      ]
    },
    {
      "cell_type": "markdown",
      "source": [
        "### 29. Produto cartesiano (broadcasting)  _(médio)_\n",
        "\n",
        "Dado `a=[1,2,3]` e `b=[10,20,30,40]`, gere todas as somas possíveis `a_i + b_j` via broadcasting (matriz 3×4).\n"
      ],
      "metadata": {
        "id": "c7YGZkgiHIfu"
      }
    },
    {
      "cell_type": "code",
      "source": [
        "import numpy as np\n",
        "\n",
        "a = np.array([1, 2, 3])[:, None]\n",
        "b = np.array([10, 20, 30, 40])[None, :]\n",
        "S = a + b\n",
        "print(S)\n"
      ],
      "metadata": {
        "colab": {
          "base_uri": "https://localhost:8080/"
        },
        "id": "A373BOzMHKXG",
        "outputId": "a2504f69-90f2-4d50-aaa8-143d271fb36c"
      },
      "execution_count": 30,
      "outputs": [
        {
          "output_type": "stream",
          "name": "stdout",
          "text": [
            "[[11 21 31 41]\n",
            " [12 22 32 42]\n",
            " [13 23 33 43]]\n"
          ]
        }
      ]
    },
    {
      "cell_type": "markdown",
      "source": [
        "### 30. Convolução 1D simples  _(médio)_\n",
        "\n",
        "Implemente uma convolução 1D 'valid' de um sinal `s` por um kernel `k` usando `np.flip` e `np.lib.stride_tricks.sliding_window_view` (sem `np.convolve`)."
      ],
      "metadata": {
        "id": "J4GrTzFsHrEl"
      }
    },
    {
      "cell_type": "code",
      "source": [
        "import numpy as np\n",
        "from numpy.lib.stride_tricks import sliding_window_view\n",
        "\n",
        "def conv1d_valid(s, k):\n",
        "    s = np.asarray(s)\n",
        "    k = np.asarray(k)\n",
        "    kf = np.flip(k)\n",
        "    windows = sliding_window_view(s, window_shape=k.size)\n",
        "    return (windows * kf).sum(axis=1)\n",
        "\n",
        "s = np.array([1, 2, 3, 4, 5])\n",
        "k = np.array([1, 0, -1])\n",
        "print(conv1d_valid(s, k))"
      ],
      "metadata": {
        "colab": {
          "base_uri": "https://localhost:8080/"
        },
        "id": "ku7w81t4Hukh",
        "outputId": "e992b5b5-f826-41bc-e5da-14ece1e36d62"
      },
      "execution_count": 31,
      "outputs": [
        {
          "output_type": "stream",
          "name": "stdout",
          "text": [
            "[2 2 2]\n"
          ]
        }
      ]
    },
    {
      "cell_type": "markdown",
      "source": [
        "### 31. Normalização min–max por coluna  _(médio)_\n",
        "\n",
        "Dada `A = rng.normal(size=(5,4))`, normalize cada coluna para o intervalo [0,1], tratando colunas constantes."
      ],
      "metadata": {
        "id": "_romSQuzH9Kw"
      }
    },
    {
      "cell_type": "code",
      "source": [
        "import numpy as np\n",
        "\n",
        "rng = np.random.default_rng(42)\n",
        "A = rng.normal(size=(5, 4))\n",
        "\n",
        "col_min = A.min(axis=0, keepdims=True)\n",
        "col_max = A.max(axis=0, keepdims=True)\n",
        "den = col_max - col_min\n",
        "den_safe = np.where(den == 0, 1, den)\n",
        "A_minmax = (A - col_min) / den_safe\n",
        "\n",
        "print(\"A:\\n\", A)\n",
        "print(\"\\nNormalizado [0,1] por coluna:\\n\", A_minmax)\n"
      ],
      "metadata": {
        "colab": {
          "base_uri": "https://localhost:8080/"
        },
        "id": "c1WfbYzeH8wr",
        "outputId": "3f08faed-83b8-4215-d0a5-c884ff858229"
      },
      "execution_count": 32,
      "outputs": [
        {
          "output_type": "stream",
          "name": "stdout",
          "text": [
            "A:\n",
            " [[ 0.30471708 -1.03998411  0.7504512   0.94056472]\n",
            " [-1.95103519 -1.30217951  0.1278404  -0.31624259]\n",
            " [-0.01680116 -0.85304393  0.87939797  0.77779194]\n",
            " [ 0.0660307   1.12724121  0.46750934 -0.85929246]\n",
            " [ 0.36875078 -0.9588826   0.8784503  -0.04992591]]\n",
            "\n",
            "Normalizado [0,1] por coluna:\n",
            " [[0.97239672 0.10792507 0.82842728 1.        ]\n",
            " [0.         0.         0.         0.30171831]\n",
            " [0.83379849 0.18487353 1.         0.9095635 ]\n",
            " [0.86950517 1.         0.45195332 0.        ]\n",
            " [1.         0.14130813 0.99873905 0.44968376]]\n"
          ]
        }
      ]
    },
    {
      "cell_type": "markdown",
      "source": [
        "### 32. Ordenar por coluna  _(médio)_\n",
        "\n",
        "Ordene as linhas de `A = np.array([[3,9],[1,4],[2,5]])` pelo valor crescente da 2ª coluna."
      ],
      "metadata": {
        "id": "w5X5lSDfICme"
      }
    },
    {
      "cell_type": "code",
      "source": [
        "import numpy as np\n",
        "\n",
        "A = np.array([[3, 9],\n",
        "              [1, 4],\n",
        "              [2, 5]])\n",
        "order = np.argsort(A[:, 1])\n",
        "A_sorted = A[order]\n",
        "print(A_sorted)\n"
      ],
      "metadata": {
        "colab": {
          "base_uri": "https://localhost:8080/"
        },
        "id": "9mFfziDcIDO_",
        "outputId": "3bea7c45-8706-42df-8839-ba9d1dce1c53"
      },
      "execution_count": 33,
      "outputs": [
        {
          "output_type": "stream",
          "name": "stdout",
          "text": [
            "[[1 4]\n",
            " [2 5]\n",
            " [3 9]]\n"
          ]
        }
      ]
    },
    {
      "cell_type": "markdown",
      "source": [
        "### 33. Únicos + contagens + primeira ocorrência  _(médio)_\n",
        "\n",
        "Para `x = [3,1,2,3,2,3,1]`, obtenha valores únicos, contagens e índice da primeira ocorrência de cada valor."
      ],
      "metadata": {
        "id": "ytL0AF8CIGRH"
      }
    },
    {
      "cell_type": "code",
      "source": [
        "import numpy as np\n",
        "\n",
        "x = np.array([3, 1, 2, 3, 2, 3, 1])\n",
        "vals, idx_first, counts = np.unique(x, return_index=True, return_counts=True)\n",
        "print(\"valores únicos (ordenados):\", vals)\n",
        "print(\"contagens:\", counts)\n",
        "print(\"índice da 1ª ocorrência (no x original):\", idx_first)\n"
      ],
      "metadata": {
        "colab": {
          "base_uri": "https://localhost:8080/"
        },
        "id": "o_BlNyOEIL0A",
        "outputId": "ae94117e-8ec1-477c-fae9-b7d1e72bbc25"
      },
      "execution_count": 34,
      "outputs": [
        {
          "output_type": "stream",
          "name": "stdout",
          "text": [
            "valores únicos (ordenados): [1 2 3]\n",
            "contagens: [2 2 3]\n",
            "índice da 1ª ocorrência (no x original): [1 2 0]\n"
          ]
        }
      ]
    },
    {
      "cell_type": "markdown",
      "source": [
        "### 34. Matriz de distâncias 2D  _(médio)_\n",
        "\n",
        "Dada `P` com N pontos 2D, compute a matriz NxN de distâncias euclidianas sem loops explícitos."
      ],
      "metadata": {
        "id": "MHi16W_sIVPp"
      }
    },
    {
      "cell_type": "code",
      "source": [
        "import numpy as np\n",
        "\n",
        "P = np.array([[0.0, 0.0],\n",
        "              [1.0, 0.0],\n",
        "              [1.0, 1.0],\n",
        "              [2.0, 2.0]])\n",
        "\n",
        "sq_norms = (P**2).sum(axis=1, keepdims=True)\n",
        "D2 = sq_norms - 2 * (P @ P.T) + sq_norms.T\n",
        "D2 = np.maximum(D2, 0.0)\n",
        "D = np.sqrt(D2)\n",
        "print(D)\n"
      ],
      "metadata": {
        "colab": {
          "base_uri": "https://localhost:8080/"
        },
        "id": "gDAzzUWGIXbE",
        "outputId": "fd17e1de-2f2a-4664-9acd-3d9db68c316f"
      },
      "execution_count": 35,
      "outputs": [
        {
          "output_type": "stream",
          "name": "stdout",
          "text": [
            "[[0.         1.         1.41421356 2.82842712]\n",
            " [1.         0.         1.         2.23606798]\n",
            " [1.41421356 1.         0.         1.41421356]\n",
            " [2.82842712 2.23606798 1.41421356 0.        ]]\n"
          ]
        }
      ]
    },
    {
      "cell_type": "markdown",
      "source": [
        "### 35. Covariância e correlação  _(médio)_\n",
        "\n",
        "Simule uma matriz 1000×3 de N(0,1) e compute `cov` (colunas como variáveis) e `corrcoef`."
      ],
      "metadata": {
        "id": "yccRGTudIaR5"
      }
    },
    {
      "cell_type": "code",
      "source": [
        "import numpy as np\n",
        "\n",
        "rng = np.random.default_rng(42)\n",
        "X = rng.normal(size=(1000, 3))\n",
        "\n",
        "cov = np.cov(X, rowvar=False)\n",
        "corr = np.corrcoef(X, rowvar=False)\n",
        "print(\"cov:\\n\", cov)\n",
        "print(\"\\ncorrelação:\\n\", corr)\n"
      ],
      "metadata": {
        "colab": {
          "base_uri": "https://localhost:8080/"
        },
        "id": "6kO4BCEFIb8G",
        "outputId": "1a61dbe3-a31d-4e73-caa2-7ec6a3ec6d4a"
      },
      "execution_count": 36,
      "outputs": [
        {
          "output_type": "stream",
          "name": "stdout",
          "text": [
            "cov:\n",
            " [[ 1.02807939  0.003405   -0.03028368]\n",
            " [ 0.003405    0.99691425  0.06347086]\n",
            " [-0.03028368  0.06347086  1.0227042 ]]\n",
            "\n",
            "correlação:\n",
            " [[ 1.          0.00336338 -0.02953387]\n",
            " [ 0.00336338  1.          0.06285943]\n",
            " [-0.02953387  0.06285943  1.        ]]\n"
          ]
        }
      ]
    },
    {
      "cell_type": "markdown",
      "source": [
        "### 36. One-hot encoding  _(médio)_\n",
        "\n",
        "Converta os rótulos `y = [2,0,1,2]` em codificação one-hot usando apenas operações NumPy."
      ],
      "metadata": {
        "id": "68hZKJDJIe_Y"
      }
    },
    {
      "cell_type": "code",
      "source": [
        "import numpy as np\n",
        "\n",
        "y = np.array([2, 0, 1, 2])\n",
        "n_classes = y.max() + 1\n",
        "one_hot = np.eye(n_classes, dtype=int)[y]\n",
        "print(one_hot)\n"
      ],
      "metadata": {
        "colab": {
          "base_uri": "https://localhost:8080/"
        },
        "id": "J1B7N1NNIi10",
        "outputId": "af5dfbb0-4682-4013-cca9-f3a33796c7b3"
      },
      "execution_count": 37,
      "outputs": [
        {
          "output_type": "stream",
          "name": "stdout",
          "text": [
            "[[0 0 1]\n",
            " [1 0 0]\n",
            " [0 1 0]\n",
            " [0 0 1]]\n"
          ]
        }
      ]
    }
  ]
}